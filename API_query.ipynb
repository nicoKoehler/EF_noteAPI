{
 "cells": [
  {
   "cell_type": "code",
   "execution_count": 104,
   "metadata": {},
   "outputs": [
    {
     "data": {
      "text/plain": [
       "{'msg': 'This is a test API for the EF interview coding challenge'}"
      ]
     },
     "execution_count": 104,
     "metadata": {},
     "output_type": "execute_result"
    }
   ],
   "source": [
    "import requests\n",
    "import os\n",
    "from config import TINYDBPATH\n",
    "from tinydb import TinyDB, Query, where\n",
    "import json\n",
    "\n",
    "db = TinyDB(TINYDBPATH)\n",
    "db.default_table_name = \"notes\"\n",
    "\n",
    "query = Query()\n",
    "\n",
    "base_url = \"http://127.0.0.1:5000/\"\n",
    "api_route = \"/api/v1/\"\n",
    "\n",
    "response = requests.get(base_url)\n",
    "response.json()"
   ]
  },
  {
   "cell_type": "code",
   "execution_count": 133,
   "metadata": {},
   "outputs": [
    {
     "data": {
      "text/plain": [
       "{'description': 'note created',\n",
       " 'msg': 'success',\n",
       " 'note_id': 'ddd3e180-8f0d-45e9-ba67-906460784add'}"
      ]
     },
     "execution_count": 133,
     "metadata": {},
     "output_type": "execute_result"
    }
   ],
   "source": [
    "###### CREATE NOTE with content\n",
    "\n",
    "content = \"test content for testing purposes. You know. To test stuff\"\n",
    "\n",
    "payload = {\"content\": content}\n",
    "response_create = requests.post(base_url + api_route + \"note/create/\", data=json.dumps(payload))\n",
    "response_data = response_create.json()\n",
    "note_id = response_data[\"note_id\"]\n",
    "\n",
    "response_data\n"
   ]
  },
  {
   "cell_type": "code",
   "execution_count": 134,
   "metadata": {},
   "outputs": [
    {
     "data": {
      "text/plain": [
       "{'content': 'test content for testing purposes. You know. To test stuff',\n",
       " 'id': 'ddd3e180-8f0d-45e9-ba67-906460784add',\n",
       " 'title': 'New Note'}"
      ]
     },
     "execution_count": 134,
     "metadata": {},
     "output_type": "execute_result"
    }
   ],
   "source": [
    "##### GET created id\n",
    "\n",
    "payload = {\"id\": note_id}\n",
    "response_get = requests.get(base_url + api_route + \"note/get/\", data=json.dumps(payload))\n",
    "response_get.json()"
   ]
  },
  {
   "cell_type": "code",
   "execution_count": 135,
   "metadata": {},
   "outputs": [
    {
     "data": {
      "text/plain": [
       "[{'content': 'this is a first test', 'title': 'New Note'},\n",
       " {'content': 'this is a first test', 'title': 'New Note'},\n",
       " {'content': 'test content for testing purposes. You know. To test stuff',\n",
       "  'id': 'c67be321-7de2-40e8-aa2e-16a9ec56bbc8',\n",
       "  'title': 'New Note'},\n",
       " {'content': 'test content for testing purposes. You know. To test stuff',\n",
       "  'id': 'a380342e-8e34-41f3-aea7-256c6d259f11',\n",
       "  'title': 'New Note'},\n",
       " {'content': 'test content for testing purposes. You know. To test stuff',\n",
       "  'id': 'ddd3e180-8f0d-45e9-ba67-906460784add',\n",
       "  'title': 'New Note'}]"
      ]
     },
     "execution_count": 135,
     "metadata": {},
     "output_type": "execute_result"
    }
   ],
   "source": [
    "response_list = requests.get(base_url + api_route + \"note/list/\", data=json.dumps(payload))\n",
    "response_list.json()"
   ]
  },
  {
   "cell_type": "code",
   "execution_count": 139,
   "metadata": {},
   "outputs": [
    {
     "data": {
      "text/plain": [
       "{'msg': 'note with this id does not exist'}"
      ]
     },
     "execution_count": 139,
     "metadata": {},
     "output_type": "execute_result"
    }
   ],
   "source": [
    "payload_delete = {\"id\":\"c67be321-7de2-40e8-aa2e-16a9ec56bbc8\"}\n",
    "\n",
    "response_delete = requests.delete(base_url + api_route + \"note/delete/\", data=json.dumps(payload_delete))\n",
    "response_delete.json()"
   ]
  },
  {
   "cell_type": "code",
   "execution_count": null,
   "metadata": {},
   "outputs": [],
   "source": [
    "payload_update = {\n",
    "    \"id\": \"ddd3e180-8f0d-45e9-ba67-906460784add\",\n",
    "    \"content\": \"this is an UPDATED note\"\n",
    "}\n",
    "\n",
    "response_update = requests.post(base_url + api_route + \"note/edit/\", data=json.dumps(payload_update))\n",
    "response_update.json()"
   ]
  }
 ],
 "metadata": {
  "interpreter": {
   "hash": "a2a82fd086bee8abbd9b691a1cb89be8ce31e14f9bc9819c32541fa5ef601510"
  },
  "kernelspec": {
   "display_name": "Python 3.9.7 ('venv_efAPI': venv)",
   "language": "python",
   "name": "python3"
  },
  "language_info": {
   "codemirror_mode": {
    "name": "ipython",
    "version": 3
   },
   "file_extension": ".py",
   "mimetype": "text/x-python",
   "name": "python",
   "nbconvert_exporter": "python",
   "pygments_lexer": "ipython3",
   "version": "3.9.7"
  },
  "orig_nbformat": 4
 },
 "nbformat": 4,
 "nbformat_minor": 2
}
